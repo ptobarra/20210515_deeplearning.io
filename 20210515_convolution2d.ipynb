{
  "nbformat": 4,
  "nbformat_minor": 0,
  "metadata": {
    "colab": {
      "name": "20210515_convolution2d.ipynb",
      "provenance": [],
      "authorship_tag": "ABX9TyNbj1p+hJMfK3Ej9/TN3Pt2",
      "include_colab_link": true
    },
    "kernelspec": {
      "name": "python3",
      "display_name": "Python 3"
    },
    "language_info": {
      "name": "python"
    }
  },
  "cells": [
    {
      "cell_type": "markdown",
      "metadata": {
        "id": "view-in-github",
        "colab_type": "text"
      },
      "source": [
        "<a href=\"https://colab.research.google.com/github/ptobarra/20210515_deeplearning.io/blob/main/20210515_convolution2d.ipynb\" target=\"_parent\"><img src=\"https://colab.research.google.com/assets/colab-badge.svg\" alt=\"Open In Colab\"/></a>"
      ]
    },
    {
      "cell_type": "code",
      "metadata": {
        "id": "4LtW_kA6opdJ"
      },
      "source": [
        "import numpy as np\n",
        "from scipy.signal import convolve2d"
      ],
      "execution_count": 84,
      "outputs": []
    },
    {
      "cell_type": "code",
      "metadata": {
        "id": "XMFbb9BRor5F"
      },
      "source": [
        "input1 = np.array([[10, 0, 0, 0, 0, 0],\n",
        "                  [10, 10, 0, 0, 0, 0],\n",
        "                  [10, 10, 10, 0, 0, 0],\n",
        "                  [10, 10, 10, 10, 0, 0],\n",
        "                  [10, 10, 10, 10, 10, 0],\n",
        "                  [10, 10, 10, 10, 10, 10]])"
      ],
      "execution_count": 85,
      "outputs": []
    },
    {
      "cell_type": "code",
      "metadata": {
        "id": "_ub27ukPrKy3"
      },
      "source": [
        "kernel = np.array([[0, 1, 1, 0],\n",
        "                   [1, 3, -3, -1],\n",
        "                   [1, 3, -3, -1],\n",
        "                   [0, 1, -1, 0]])"
      ],
      "execution_count": 86,
      "outputs": []
    },
    {
      "cell_type": "code",
      "metadata": {
        "colab": {
          "base_uri": "https://localhost:8080/"
        },
        "id": "yDFyvsansFon",
        "outputId": "f1574868-d1b5-4056-bba6-ef15efa2a93d"
      },
      "source": [
        "input1"
      ],
      "execution_count": 87,
      "outputs": [
        {
          "output_type": "execute_result",
          "data": {
            "text/plain": [
              "array([[10,  0,  0,  0,  0,  0],\n",
              "       [10, 10,  0,  0,  0,  0],\n",
              "       [10, 10, 10,  0,  0,  0],\n",
              "       [10, 10, 10, 10,  0,  0],\n",
              "       [10, 10, 10, 10, 10,  0],\n",
              "       [10, 10, 10, 10, 10, 10]])"
            ]
          },
          "metadata": {
            "tags": []
          },
          "execution_count": 87
        }
      ]
    },
    {
      "cell_type": "code",
      "metadata": {
        "colab": {
          "base_uri": "https://localhost:8080/"
        },
        "id": "hJlg7EAWsJA-",
        "outputId": "8804a15c-3d8d-403e-e0a1-03cb1c429e64"
      },
      "source": [
        "kernel"
      ],
      "execution_count": 88,
      "outputs": [
        {
          "output_type": "execute_result",
          "data": {
            "text/plain": [
              "array([[ 0,  1,  1,  0],\n",
              "       [ 1,  3, -3, -1],\n",
              "       [ 1,  3, -3, -1],\n",
              "       [ 0,  1, -1,  0]])"
            ]
          },
          "metadata": {
            "tags": []
          },
          "execution_count": 88
        }
      ]
    },
    {
      "cell_type": "code",
      "metadata": {
        "id": "NdAKgwUesKSt"
      },
      "source": [
        "output1 = convolve2d(in1=input1, in2=kernel, mode='valid')"
      ],
      "execution_count": 89,
      "outputs": []
    },
    {
      "cell_type": "code",
      "metadata": {
        "colab": {
          "base_uri": "https://localhost:8080/"
        },
        "id": "MjzC5eUes1VV",
        "outputId": "0d49f97c-3831-488d-8260-e58f39f5cff8"
      },
      "source": [
        "# detecta bien 45º en una diagonal\n",
        "output1"
      ],
      "execution_count": 90,
      "outputs": [
        {
          "output_type": "execute_result",
          "data": {
            "text/plain": [
              "array([[-30, -30,   0],\n",
              "       [  0, -30, -30],\n",
              "       [ 20,   0, -30]])"
            ]
          },
          "metadata": {
            "tags": []
          },
          "execution_count": 90
        }
      ]
    },
    {
      "cell_type": "code",
      "metadata": {
        "id": "ak7e7p-ms2PC"
      },
      "source": [
        "input2 = np.array([[10, 10, 10, 10, 10, 10],\n",
        "                  [10, 10, 10, 10, 10, 10],\n",
        "                  [10, 10, 10, 10, 10, 10],\n",
        "                  [10, 10, 10, 10, 10, 10],\n",
        "                  [10, 10, 10, 10, 10, 10],\n",
        "                  [10, 10, 10, 10, 10, 10]])"
      ],
      "execution_count": 91,
      "outputs": []
    },
    {
      "cell_type": "code",
      "metadata": {
        "id": "MT-MtcZGumsQ"
      },
      "source": [
        "output2 = convolve2d(in1=input2, in2=kernel, mode='valid')"
      ],
      "execution_count": 92,
      "outputs": []
    },
    {
      "cell_type": "code",
      "metadata": {
        "colab": {
          "base_uri": "https://localhost:8080/"
        },
        "id": "c7thFM2QuqwR",
        "outputId": "ccf5ca3f-a527-405f-fe84-dc3301e61c83"
      },
      "source": [
        "#aqui no filtra nada\n",
        "output2"
      ],
      "execution_count": 93,
      "outputs": [
        {
          "output_type": "execute_result",
          "data": {
            "text/plain": [
              "array([[20, 20, 20],\n",
              "       [20, 20, 20],\n",
              "       [20, 20, 20]])"
            ]
          },
          "metadata": {
            "tags": []
          },
          "execution_count": 93
        }
      ]
    },
    {
      "cell_type": "code",
      "metadata": {
        "id": "qkR1rWwPusV2"
      },
      "source": [
        "input3 = np.transpose(input1)"
      ],
      "execution_count": 94,
      "outputs": []
    },
    {
      "cell_type": "code",
      "metadata": {
        "colab": {
          "base_uri": "https://localhost:8080/"
        },
        "id": "Mn8C1l8HvX1H",
        "outputId": "92476a3c-9cfc-463f-e6d9-7150e488e1cb"
      },
      "source": [
        "input3"
      ],
      "execution_count": 95,
      "outputs": [
        {
          "output_type": "execute_result",
          "data": {
            "text/plain": [
              "array([[10, 10, 10, 10, 10, 10],\n",
              "       [ 0, 10, 10, 10, 10, 10],\n",
              "       [ 0,  0, 10, 10, 10, 10],\n",
              "       [ 0,  0,  0, 10, 10, 10],\n",
              "       [ 0,  0,  0,  0, 10, 10],\n",
              "       [ 0,  0,  0,  0,  0, 10]])"
            ]
          },
          "metadata": {
            "tags": []
          },
          "execution_count": 95
        }
      ]
    },
    {
      "cell_type": "code",
      "metadata": {
        "id": "dlU1xuz6v9b3"
      },
      "source": [
        "output3 = convolve2d(in1=input3, in2=kernel, mode='valid')"
      ],
      "execution_count": 96,
      "outputs": []
    },
    {
      "cell_type": "code",
      "metadata": {
        "colab": {
          "base_uri": "https://localhost:8080/"
        },
        "id": "z5i5OoAQwB7O",
        "outputId": "80fbf7e7-8f08-4011-f33c-5689954d6d30"
      },
      "source": [
        "# detecta bien el cambio de 45º en la otra diagonal\n",
        "output3"
      ],
      "execution_count": 97,
      "outputs": [
        {
          "output_type": "execute_result",
          "data": {
            "text/plain": [
              "array([[50, 20, 20],\n",
              "       [50, 50, 20],\n",
              "       [20, 50, 50]])"
            ]
          },
          "metadata": {
            "tags": []
          },
          "execution_count": 97
        }
      ]
    },
    {
      "cell_type": "code",
      "metadata": {
        "id": "PzG18OahwFGk"
      },
      "source": [
        "input4 = np.array([[10, 10, 10, 0, 0, 0],\n",
        "                  [10, 10, 10, 0, 0, 0],\n",
        "                  [10, 10, 10, 0, 0, 0],\n",
        "                  [10, 10, 10, 0, 0, 0],\n",
        "                  [10, 10, 10, 0, 0, 0],\n",
        "                  [10, 10, 10, 0, 0, 0]])"
      ],
      "execution_count": 98,
      "outputs": []
    },
    {
      "cell_type": "code",
      "metadata": {
        "id": "imgib4hNwdH7"
      },
      "source": [
        "output4 = convolve2d(in1=input4, in2=kernel, mode='valid')"
      ],
      "execution_count": 99,
      "outputs": []
    },
    {
      "cell_type": "code",
      "metadata": {
        "colab": {
          "base_uri": "https://localhost:8080/"
        },
        "id": "CxJgqoCawgD-",
        "outputId": "8f90e497-e61b-4995-c3ef-6acb9e2fd430"
      },
      "source": [
        "# no detecta bien bordes verticales y por ende tampoco horizontales\n",
        "output4"
      ],
      "execution_count": 100,
      "outputs": [
        {
          "output_type": "execute_result",
          "data": {
            "text/plain": [
              "array([[  0, -80, -20],\n",
              "       [  0, -80, -20],\n",
              "       [  0, -80, -20]])"
            ]
          },
          "metadata": {
            "tags": []
          },
          "execution_count": 100
        }
      ]
    },
    {
      "cell_type": "code",
      "metadata": {
        "id": "iTDKoBsawlYB"
      },
      "source": [
        "input5 = np.array([[0, 0, 0, 0, 0, 0],\n",
        "                  [0, 10, 10, 10, 10, 0],\n",
        "                  [0, 10, 20, 20, 10, 0],\n",
        "                  [0, 10, 20, 20, 10, 0],\n",
        "                  [0, 10, 10, 10, 10, 0],\n",
        "                  [0, 0, 0, 0, 0, 0]])"
      ],
      "execution_count": 101,
      "outputs": []
    },
    {
      "cell_type": "code",
      "metadata": {
        "id": "1uCYq7ktyBRY"
      },
      "source": [
        "output5 = convolve2d(in1=input5, in2=kernel, mode='valid')"
      ],
      "execution_count": 102,
      "outputs": []
    },
    {
      "cell_type": "code",
      "metadata": {
        "colab": {
          "base_uri": "https://localhost:8080/"
        },
        "id": "X2f4HihwyInb",
        "outputId": "2bd25a03-5489-400b-a9eb-5a3a401c95a2"
      },
      "source": [
        "# es un detector de contraste\n",
        "output5"
      ],
      "execution_count": 103,
      "outputs": [
        {
          "output_type": "execute_result",
          "data": {
            "text/plain": [
              "array([[ 90,  40, -30],\n",
              "       [120,  20, -80],\n",
              "       [ 70,   0, -70]])"
            ]
          },
          "metadata": {
            "tags": []
          },
          "execution_count": 103
        }
      ]
    },
    {
      "cell_type": "code",
      "metadata": {
        "id": "M_Fmfy8XyKmk"
      },
      "source": [
        ""
      ],
      "execution_count": null,
      "outputs": []
    }
  ]
}